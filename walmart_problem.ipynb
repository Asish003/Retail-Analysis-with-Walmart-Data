{
 "cells": [
  {
   "cell_type": "code",
   "execution_count": 1,
   "metadata": {},
   "outputs": [],
   "source": [
    "import pandas as pd\n",
    "import numpy as np\n",
    "import seaborn as sns\n",
    "import matplotlib.pyplot as plt"
   ]
  },
  {
   "cell_type": "code",
   "execution_count": 2,
   "metadata": {},
   "outputs": [],
   "source": [
    "df = pd.read_csv(\"1577429980_walmart_store_sales/Walmart_Store_sales.csv\")"
   ]
  },
  {
   "cell_type": "code",
   "execution_count": 3,
   "metadata": {},
   "outputs": [
    {
     "data": {
      "text/html": [
       "<div>\n",
       "<style scoped>\n",
       "    .dataframe tbody tr th:only-of-type {\n",
       "        vertical-align: middle;\n",
       "    }\n",
       "\n",
       "    .dataframe tbody tr th {\n",
       "        vertical-align: top;\n",
       "    }\n",
       "\n",
       "    .dataframe thead th {\n",
       "        text-align: right;\n",
       "    }\n",
       "</style>\n",
       "<table border=\"1\" class=\"dataframe\">\n",
       "  <thead>\n",
       "    <tr style=\"text-align: right;\">\n",
       "      <th></th>\n",
       "      <th>Store</th>\n",
       "      <th>Date</th>\n",
       "      <th>Weekly_Sales</th>\n",
       "      <th>Holiday_Flag</th>\n",
       "      <th>Temperature</th>\n",
       "      <th>Fuel_Price</th>\n",
       "      <th>CPI</th>\n",
       "      <th>Unemployment</th>\n",
       "    </tr>\n",
       "  </thead>\n",
       "  <tbody>\n",
       "    <tr>\n",
       "      <th>0</th>\n",
       "      <td>1</td>\n",
       "      <td>05-02-2010</td>\n",
       "      <td>1643690.90</td>\n",
       "      <td>0</td>\n",
       "      <td>42.31</td>\n",
       "      <td>2.572</td>\n",
       "      <td>211.096358</td>\n",
       "      <td>8.106</td>\n",
       "    </tr>\n",
       "    <tr>\n",
       "      <th>1</th>\n",
       "      <td>1</td>\n",
       "      <td>12-02-2010</td>\n",
       "      <td>1641957.44</td>\n",
       "      <td>1</td>\n",
       "      <td>38.51</td>\n",
       "      <td>2.548</td>\n",
       "      <td>211.242170</td>\n",
       "      <td>8.106</td>\n",
       "    </tr>\n",
       "    <tr>\n",
       "      <th>2</th>\n",
       "      <td>1</td>\n",
       "      <td>19-02-2010</td>\n",
       "      <td>1611968.17</td>\n",
       "      <td>0</td>\n",
       "      <td>39.93</td>\n",
       "      <td>2.514</td>\n",
       "      <td>211.289143</td>\n",
       "      <td>8.106</td>\n",
       "    </tr>\n",
       "    <tr>\n",
       "      <th>3</th>\n",
       "      <td>1</td>\n",
       "      <td>26-02-2010</td>\n",
       "      <td>1409727.59</td>\n",
       "      <td>0</td>\n",
       "      <td>46.63</td>\n",
       "      <td>2.561</td>\n",
       "      <td>211.319643</td>\n",
       "      <td>8.106</td>\n",
       "    </tr>\n",
       "    <tr>\n",
       "      <th>4</th>\n",
       "      <td>1</td>\n",
       "      <td>05-03-2010</td>\n",
       "      <td>1554806.68</td>\n",
       "      <td>0</td>\n",
       "      <td>46.50</td>\n",
       "      <td>2.625</td>\n",
       "      <td>211.350143</td>\n",
       "      <td>8.106</td>\n",
       "    </tr>\n",
       "  </tbody>\n",
       "</table>\n",
       "</div>"
      ],
      "text/plain": [
       "   Store        Date  Weekly_Sales  Holiday_Flag  Temperature  Fuel_Price  \\\n",
       "0      1  05-02-2010    1643690.90             0        42.31       2.572   \n",
       "1      1  12-02-2010    1641957.44             1        38.51       2.548   \n",
       "2      1  19-02-2010    1611968.17             0        39.93       2.514   \n",
       "3      1  26-02-2010    1409727.59             0        46.63       2.561   \n",
       "4      1  05-03-2010    1554806.68             0        46.50       2.625   \n",
       "\n",
       "          CPI  Unemployment  \n",
       "0  211.096358         8.106  \n",
       "1  211.242170         8.106  \n",
       "2  211.289143         8.106  \n",
       "3  211.319643         8.106  \n",
       "4  211.350143         8.106  "
      ]
     },
     "execution_count": 3,
     "metadata": {},
     "output_type": "execute_result"
    }
   ],
   "source": [
    "df.head()"
   ]
  },
  {
   "cell_type": "code",
   "execution_count": 4,
   "metadata": {},
   "outputs": [
    {
     "data": {
      "text/html": [
       "<div>\n",
       "<style scoped>\n",
       "    .dataframe tbody tr th:only-of-type {\n",
       "        vertical-align: middle;\n",
       "    }\n",
       "\n",
       "    .dataframe tbody tr th {\n",
       "        vertical-align: top;\n",
       "    }\n",
       "\n",
       "    .dataframe thead th {\n",
       "        text-align: right;\n",
       "    }\n",
       "</style>\n",
       "<table border=\"1\" class=\"dataframe\">\n",
       "  <thead>\n",
       "    <tr style=\"text-align: right;\">\n",
       "      <th></th>\n",
       "      <th>Store</th>\n",
       "      <th>Date</th>\n",
       "      <th>Weekly_Sales</th>\n",
       "      <th>Holiday_Flag</th>\n",
       "      <th>Temperature</th>\n",
       "      <th>Fuel_Price</th>\n",
       "      <th>CPI</th>\n",
       "      <th>Unemployment</th>\n",
       "    </tr>\n",
       "  </thead>\n",
       "  <tbody>\n",
       "    <tr>\n",
       "      <th>6430</th>\n",
       "      <td>45</td>\n",
       "      <td>28-09-2012</td>\n",
       "      <td>713173.95</td>\n",
       "      <td>0</td>\n",
       "      <td>64.88</td>\n",
       "      <td>3.997</td>\n",
       "      <td>192.013558</td>\n",
       "      <td>8.684</td>\n",
       "    </tr>\n",
       "    <tr>\n",
       "      <th>6431</th>\n",
       "      <td>45</td>\n",
       "      <td>05-10-2012</td>\n",
       "      <td>733455.07</td>\n",
       "      <td>0</td>\n",
       "      <td>64.89</td>\n",
       "      <td>3.985</td>\n",
       "      <td>192.170412</td>\n",
       "      <td>8.667</td>\n",
       "    </tr>\n",
       "    <tr>\n",
       "      <th>6432</th>\n",
       "      <td>45</td>\n",
       "      <td>12-10-2012</td>\n",
       "      <td>734464.36</td>\n",
       "      <td>0</td>\n",
       "      <td>54.47</td>\n",
       "      <td>4.000</td>\n",
       "      <td>192.327265</td>\n",
       "      <td>8.667</td>\n",
       "    </tr>\n",
       "    <tr>\n",
       "      <th>6433</th>\n",
       "      <td>45</td>\n",
       "      <td>19-10-2012</td>\n",
       "      <td>718125.53</td>\n",
       "      <td>0</td>\n",
       "      <td>56.47</td>\n",
       "      <td>3.969</td>\n",
       "      <td>192.330854</td>\n",
       "      <td>8.667</td>\n",
       "    </tr>\n",
       "    <tr>\n",
       "      <th>6434</th>\n",
       "      <td>45</td>\n",
       "      <td>26-10-2012</td>\n",
       "      <td>760281.43</td>\n",
       "      <td>0</td>\n",
       "      <td>58.85</td>\n",
       "      <td>3.882</td>\n",
       "      <td>192.308899</td>\n",
       "      <td>8.667</td>\n",
       "    </tr>\n",
       "  </tbody>\n",
       "</table>\n",
       "</div>"
      ],
      "text/plain": [
       "      Store        Date  Weekly_Sales  Holiday_Flag  Temperature  Fuel_Price  \\\n",
       "6430     45  28-09-2012     713173.95             0        64.88       3.997   \n",
       "6431     45  05-10-2012     733455.07             0        64.89       3.985   \n",
       "6432     45  12-10-2012     734464.36             0        54.47       4.000   \n",
       "6433     45  19-10-2012     718125.53             0        56.47       3.969   \n",
       "6434     45  26-10-2012     760281.43             0        58.85       3.882   \n",
       "\n",
       "             CPI  Unemployment  \n",
       "6430  192.013558         8.684  \n",
       "6431  192.170412         8.667  \n",
       "6432  192.327265         8.667  \n",
       "6433  192.330854         8.667  \n",
       "6434  192.308899         8.667  "
      ]
     },
     "execution_count": 4,
     "metadata": {},
     "output_type": "execute_result"
    }
   ],
   "source": [
    "df.tail()"
   ]
  },
  {
   "cell_type": "code",
   "execution_count": 5,
   "metadata": {},
   "outputs": [
    {
     "name": "stdout",
     "output_type": "stream",
     "text": [
      "<class 'pandas.core.frame.DataFrame'>\n",
      "RangeIndex: 6435 entries, 0 to 6434\n",
      "Data columns (total 8 columns):\n",
      " #   Column        Non-Null Count  Dtype  \n",
      "---  ------        --------------  -----  \n",
      " 0   Store         6435 non-null   int64  \n",
      " 1   Date          6435 non-null   object \n",
      " 2   Weekly_Sales  6435 non-null   float64\n",
      " 3   Holiday_Flag  6435 non-null   int64  \n",
      " 4   Temperature   6435 non-null   float64\n",
      " 5   Fuel_Price    6435 non-null   float64\n",
      " 6   CPI           6435 non-null   float64\n",
      " 7   Unemployment  6435 non-null   float64\n",
      "dtypes: float64(5), int64(2), object(1)\n",
      "memory usage: 402.3+ KB\n"
     ]
    }
   ],
   "source": [
    "df.info()"
   ]
  },
  {
   "cell_type": "code",
   "execution_count": 6,
   "metadata": {},
   "outputs": [
    {
     "data": {
      "text/plain": [
       "Store           0\n",
       "Date            0\n",
       "Weekly_Sales    0\n",
       "Holiday_Flag    0\n",
       "Temperature     0\n",
       "Fuel_Price      0\n",
       "CPI             0\n",
       "Unemployment    0\n",
       "dtype: int64"
      ]
     },
     "execution_count": 6,
     "metadata": {},
     "output_type": "execute_result"
    }
   ],
   "source": [
    "df.isna().sum()"
   ]
  },
  {
   "cell_type": "code",
   "execution_count": 7,
   "metadata": {},
   "outputs": [
    {
     "data": {
      "text/plain": [
       "(6435, 8)"
      ]
     },
     "execution_count": 7,
     "metadata": {},
     "output_type": "execute_result"
    }
   ],
   "source": [
    "df.shape"
   ]
  },
  {
   "cell_type": "code",
   "execution_count": 8,
   "metadata": {},
   "outputs": [
    {
     "data": {
      "text/plain": [
       "0"
      ]
     },
     "execution_count": 8,
     "metadata": {},
     "output_type": "execute_result"
    }
   ],
   "source": [
    "df.duplicated().sum()"
   ]
  },
  {
   "cell_type": "code",
   "execution_count": 9,
   "metadata": {},
   "outputs": [],
   "source": [
    "grouped_stores = df.groupby(df[\"Store\"])"
   ]
  },
  {
   "cell_type": "code",
   "execution_count": 10,
   "metadata": {},
   "outputs": [],
   "source": [
    "# for store, data in grouped_stores:\n",
    "#     sns.barplot(x='Date', y='Weekly_Sales', data=data)\n",
    "#     plt.title(f'Store {store} Sales Analysis')\n",
    "#     plt.show()"
   ]
  },
  {
   "cell_type": "code",
   "execution_count": 11,
   "metadata": {},
   "outputs": [
    {
     "data": {
      "image/png": "[encoded data removed]",
      "text/plain": [
       "<Figure size 640x480 with 1 Axes>"
      ]
     },
     "metadata": {},
     "output_type": "display_data"
    },
    {
     "data": {
      "image/png": "[encoded data removed]",
      "text/plain": [
       "<Figure size 640x480 with 1 Axes>"
      ]
     },
     "metadata": {},
     "output_type": "display_data"
    },
    {
     "data": {
      "image/png": "[encoded data removed]",
      "text/plain": [
       "<Figure size 640x480 with 1 Axes>"
      ]
     },
     "metadata": {},
     "output_type": "display_data"
    },
    {
     "data": {
      "image/png": "[encoded data removed]",
      "text/plain": [
       "<Figure size 640x480 with 1 Axes>"
      ]
     },
     "metadata": {},
     "output_type": "display_data"
    },
    {
     "data": {
      "image/png": "[encoded data removed]",
      "text/plain": [
       "<Figure size 640x480 with 1 Axes>"
      ]
     },
     "metadata": {},
     "output_type": "display_data"
    },
    {
     "data": {
      "image/png": "[encoded data removed]",
      "text/plain": [
       "<Figure size 640x480 with 1 Axes>"
      ]
     },
     "metadata": {},
     "output_type": "display_data"
    },
    {
     "data": {
      "image/png": "[encoded data removed]",
      "text/plain": [
       "<Figure size 640x480 with 1 Axes>"
      ]
     },
     "metadata": {},
     "output_type": "display_data"
    }
   ],
   "source": [
    "for i in df.select_dtypes(include='number').columns: \n",
    "    sns.boxplot(data=df , x=i)\n",
    "    plt.show()"
   ]
  },
  {
   "cell_type": "code",
   "execution_count": 12,
   "metadata": {},
   "outputs": [
    {
     "data": {
      "text/plain": [
       "<Axes: xlabel='Unemployment'>"
      ]
     },
     "execution_count": 12,
     "metadata": {},
     "output_type": "execute_result"
    },
    {
     "data": {
      "image/png": "[encoded data removed]",
      "text/plain": [
       "<Figure size 640x480 with 1 Axes>"
      ]
     },
     "metadata": {},
     "output_type": "display_data"
    }
   ],
   "source": [
    "sns.boxplot(data=df , x=i)"
   ]
  },
  {
   "cell_type": "code",
   "execution_count": 13,
   "metadata": {},
   "outputs": [
    {
     "name": "stdout",
     "output_type": "stream",
     "text": [
      "Store\n",
      "1     2.224028e+08\n",
      "2     2.753824e+08\n",
      "3     5.758674e+07\n",
      "4     2.995440e+08\n",
      "5     4.547569e+07\n",
      "6     2.237561e+08\n",
      "7     8.159828e+07\n",
      "8     1.299512e+08\n",
      "9     7.778922e+07\n",
      "10    2.716177e+08\n",
      "11    1.939628e+08\n",
      "12    1.442872e+08\n",
      "13    2.865177e+08\n",
      "14    2.889999e+08\n",
      "15    8.913368e+07\n",
      "16    7.425243e+07\n",
      "17    1.277821e+08\n",
      "18    1.551147e+08\n",
      "19    2.066349e+08\n",
      "20    3.013978e+08\n",
      "21    1.081179e+08\n",
      "22    1.470756e+08\n",
      "23    1.987506e+08\n",
      "24    1.940160e+08\n",
      "25    1.010612e+08\n",
      "26    1.434164e+08\n",
      "27    2.538559e+08\n",
      "28    1.892637e+08\n",
      "29    7.714155e+07\n",
      "30    6.271689e+07\n",
      "31    1.996139e+08\n",
      "32    1.668192e+08\n",
      "33    3.716022e+07\n",
      "34    1.382498e+08\n",
      "35    1.315207e+08\n",
      "36    5.341221e+07\n",
      "37    7.420274e+07\n",
      "38    5.515963e+07\n",
      "39    2.074455e+08\n",
      "40    1.378703e+08\n",
      "41    1.813419e+08\n",
      "42    7.956575e+07\n",
      "43    9.056544e+07\n",
      "44    4.329309e+07\n",
      "45    1.123953e+08\n",
      "Name: Weekly_Sales, dtype: float64\n"
     ]
    }
   ],
   "source": [
    "store_sales = df.groupby('Store')['Weekly_Sales'].sum()\n",
    "print(store_sales)"
   ]
  },
  {
   "cell_type": "code",
   "execution_count": 14,
   "metadata": {},
   "outputs": [
    {
     "name": "stdout",
     "output_type": "stream",
     "text": [
      "    Store  Weekly_Sales\n",
      "0       1  2.224028e+08\n",
      "1       2  2.753824e+08\n",
      "2       3  5.758674e+07\n",
      "3       4  2.995440e+08\n",
      "4       5  4.547569e+07\n",
      "5       6  2.237561e+08\n",
      "6       7  8.159828e+07\n",
      "7       8  1.299512e+08\n",
      "8       9  7.778922e+07\n",
      "9      10  2.716177e+08\n",
      "10     11  1.939628e+08\n",
      "11     12  1.442872e+08\n",
      "12     13  2.865177e+08\n",
      "13     14  2.889999e+08\n",
      "14     15  8.913368e+07\n",
      "15     16  7.425243e+07\n",
      "16     17  1.277821e+08\n",
      "17     18  1.551147e+08\n",
      "18     19  2.066349e+08\n",
      "19     20  3.013978e+08\n",
      "20     21  1.081179e+08\n",
      "21     22  1.470756e+08\n",
      "22     23  1.987506e+08\n",
      "23     24  1.940160e+08\n",
      "24     25  1.010612e+08\n",
      "25     26  1.434164e+08\n",
      "26     27  2.538559e+08\n",
      "27     28  1.892637e+08\n",
      "28     29  7.714155e+07\n",
      "29     30  6.271689e+07\n",
      "30     31  1.996139e+08\n",
      "31     32  1.668192e+08\n",
      "32     33  3.716022e+07\n",
      "33     34  1.382498e+08\n",
      "34     35  1.315207e+08\n",
      "35     36  5.341221e+07\n",
      "36     37  7.420274e+07\n",
      "37     38  5.515963e+07\n",
      "38     39  2.074455e+08\n",
      "39     40  1.378703e+08\n",
      "40     41  1.813419e+08\n",
      "41     42  7.956575e+07\n",
      "42     43  9.056544e+07\n",
      "43     44  4.329309e+07\n",
      "44     45  1.123953e+08\n"
     ]
    }
   ],
   "source": [
    "store_sales = df.groupby('Store')['Weekly_Sales'].sum().reset_index()\n",
    "print(store_sales)"
   ]
  },
  {
   "cell_type": "markdown",
   "metadata": {},
   "source": [
    "Thus we can state Store 20 has the maximum sales"
   ]
  },
  {
   "cell_type": "code",
   "execution_count": 15,
   "metadata": {},
   "outputs": [
    {
     "data": {
      "text/plain": [
       "<Axes: xlabel='Store', ylabel='Weekly_Sales'>"
      ]
     },
     "execution_count": 15,
     "metadata": {},
     "output_type": "execute_result"
    },
    {
     "data": {
      "image/png": "[encoded data removed]",
      "text/plain": [
       "<Figure size 1200x600 with 1 Axes>"
      ]
     },
     "metadata": {},
     "output_type": "display_data"
    }
   ],
   "source": [
    "plt.figure(figsize=(12, 6))\n",
    "sns.barplot(data=store_sales,x=\"Store\",y=\"Weekly_Sales\")"
   ]
  },
  {
   "cell_type": "code",
   "execution_count": 16,
   "metadata": {},
   "outputs": [],
   "source": [
    "sorted_store_sales = store_sales.sort_values(by=\"Weekly_Sales\",ascending=False)"
   ]
  },
  {
   "cell_type": "code",
   "execution_count": 17,
   "metadata": {},
   "outputs": [
    {
     "data": {
      "text/plain": [
       "<Axes: xlabel='Store', ylabel='Weekly_Sales'>"
      ]
     },
     "execution_count": 17,
     "metadata": {},
     "output_type": "execute_result"
    },
    {
     "data": {
      "image/png": "[encoded data removed]",
      "text/plain": [
       "<Figure size 1200x600 with 1 Axes>"
      ]
     },
     "metadata": {},
     "output_type": "display_data"
    }
   ],
   "source": [
    "plt.figure(figsize=(12, 6))\n",
    "sns.barplot(data=sorted_store_sales,x=\"Store\",y=\"Weekly_Sales\")"
   ]
  },
  {
   "cell_type": "code",
   "execution_count": 18,
   "metadata": {},
   "outputs": [
    {
     "data": {
      "text/html": [
       "<div>\n",
       "<style scoped>\n",
       "    .dataframe tbody tr th:only-of-type {\n",
       "        vertical-align: middle;\n",
       "    }\n",
       "\n",
       "    .dataframe tbody tr th {\n",
       "        vertical-align: top;\n",
       "    }\n",
       "\n",
       "    .dataframe thead th {\n",
       "        text-align: right;\n",
       "    }\n",
       "</style>\n",
       "<table border=\"1\" class=\"dataframe\">\n",
       "  <thead>\n",
       "    <tr style=\"text-align: right;\">\n",
       "      <th></th>\n",
       "      <th>Store</th>\n",
       "      <th>Weekly_Sales</th>\n",
       "      <th>Holiday_Flag</th>\n",
       "      <th>Temperature</th>\n",
       "      <th>Fuel_Price</th>\n",
       "      <th>CPI</th>\n",
       "      <th>Unemployment</th>\n",
       "    </tr>\n",
       "  </thead>\n",
       "  <tbody>\n",
       "    <tr>\n",
       "      <th>count</th>\n",
       "      <td>6435.000000</td>\n",
       "      <td>6.435000e+03</td>\n",
       "      <td>6435.000000</td>\n",
       "      <td>6435.000000</td>\n",
       "      <td>6435.000000</td>\n",
       "      <td>6435.000000</td>\n",
       "      <td>6435.000000</td>\n",
       "    </tr>\n",
       "    <tr>\n",
       "      <th>mean</th>\n",
       "      <td>23.000000</td>\n",
       "      <td>1.046965e+06</td>\n",
       "      <td>0.069930</td>\n",
       "      <td>60.663782</td>\n",
       "      <td>3.358607</td>\n",
       "      <td>171.578394</td>\n",
       "      <td>7.999151</td>\n",
       "    </tr>\n",
       "    <tr>\n",
       "      <th>std</th>\n",
       "      <td>12.988182</td>\n",
       "      <td>5.643666e+05</td>\n",
       "      <td>0.255049</td>\n",
       "      <td>18.444933</td>\n",
       "      <td>0.459020</td>\n",
       "      <td>39.356712</td>\n",
       "      <td>1.875885</td>\n",
       "    </tr>\n",
       "    <tr>\n",
       "      <th>min</th>\n",
       "      <td>1.000000</td>\n",
       "      <td>2.099862e+05</td>\n",
       "      <td>0.000000</td>\n",
       "      <td>-2.060000</td>\n",
       "      <td>2.472000</td>\n",
       "      <td>126.064000</td>\n",
       "      <td>3.879000</td>\n",
       "    </tr>\n",
       "    <tr>\n",
       "      <th>25%</th>\n",
       "      <td>12.000000</td>\n",
       "      <td>5.533501e+05</td>\n",
       "      <td>0.000000</td>\n",
       "      <td>47.460000</td>\n",
       "      <td>2.933000</td>\n",
       "      <td>131.735000</td>\n",
       "      <td>6.891000</td>\n",
       "    </tr>\n",
       "    <tr>\n",
       "      <th>50%</th>\n",
       "      <td>23.000000</td>\n",
       "      <td>9.607460e+05</td>\n",
       "      <td>0.000000</td>\n",
       "      <td>62.670000</td>\n",
       "      <td>3.445000</td>\n",
       "      <td>182.616521</td>\n",
       "      <td>7.874000</td>\n",
       "    </tr>\n",
       "    <tr>\n",
       "      <th>75%</th>\n",
       "      <td>34.000000</td>\n",
       "      <td>1.420159e+06</td>\n",
       "      <td>0.000000</td>\n",
       "      <td>74.940000</td>\n",
       "      <td>3.735000</td>\n",
       "      <td>212.743293</td>\n",
       "      <td>8.622000</td>\n",
       "    </tr>\n",
       "    <tr>\n",
       "      <th>max</th>\n",
       "      <td>45.000000</td>\n",
       "      <td>3.818686e+06</td>\n",
       "      <td>1.000000</td>\n",
       "      <td>100.140000</td>\n",
       "      <td>4.468000</td>\n",
       "      <td>227.232807</td>\n",
       "      <td>14.313000</td>\n",
       "    </tr>\n",
       "  </tbody>\n",
       "</table>\n",
       "</div>"
      ],
      "text/plain": [
       "             Store  Weekly_Sales  Holiday_Flag  Temperature   Fuel_Price  \\\n",
       "count  6435.000000  6.435000e+03   6435.000000  6435.000000  6435.000000   \n",
       "mean     23.000000  1.046965e+06      0.069930    60.663782     3.358607   \n",
       "std      12.988182  5.643666e+05      0.255049    18.444933     0.459020   \n",
       "min       1.000000  2.099862e+05      0.000000    -2.060000     2.472000   \n",
       "25%      12.000000  5.533501e+05      0.000000    47.460000     2.933000   \n",
       "50%      23.000000  9.607460e+05      0.000000    62.670000     3.445000   \n",
       "75%      34.000000  1.420159e+06      0.000000    74.940000     3.735000   \n",
       "max      45.000000  3.818686e+06      1.000000   100.140000     4.468000   \n",
       "\n",
       "               CPI  Unemployment  \n",
       "count  6435.000000   6435.000000  \n",
       "mean    171.578394      7.999151  \n",
       "std      39.356712      1.875885  \n",
       "min     126.064000      3.879000  \n",
       "25%     131.735000      6.891000  \n",
       "50%     182.616521      7.874000  \n",
       "75%     212.743293      8.622000  \n",
       "max     227.232807     14.313000  "
      ]
     },
     "execution_count": 18,
     "metadata": {},
     "output_type": "execute_result"
    }
   ],
   "source": [
    "df.describe()"
   ]
  },
  {
   "cell_type": "code",
   "execution_count": 19,
   "metadata": {},
   "outputs": [
    {
     "name": "stdout",
     "output_type": "stream",
     "text": [
      "\n",
      "Sorted Standard Deviation by Store:\n",
      "    Store            Std\n",
      "0      14  317569.949476\n",
      "1      10  302262.062504\n",
      "2      20  275900.562742\n",
      "3       4  266201.442297\n",
      "4      13  265506.995776\n",
      "5      23  249788.038068\n",
      "6      27  239930.135688\n",
      "7       2  237683.694682\n",
      "8      39  217466.454833\n",
      "9       6  212525.855862\n",
      "10     35  211243.457791\n",
      "11     19  191722.638730\n",
      "12     41  187907.162766\n",
      "13     28  181758.967539\n",
      "14     18  176641.510839\n",
      "15     24  167745.677567\n",
      "16     11  165833.887863\n",
      "17     22  161251.350631\n",
      "18      1  155980.767761\n",
      "19     12  139166.871880\n",
      "20     32  138017.252087\n",
      "21     45  130168.526635\n",
      "22     21  128752.812853\n",
      "23     31  125855.942933\n",
      "24     15  120538.652043\n",
      "25     40  119002.112858\n",
      "26     25  112976.788600\n",
      "27      7  112585.469220\n",
      "28     17  112162.936087\n",
      "29     26  110431.288141\n",
      "30      8  106280.829881\n",
      "31     34  104630.164676\n",
      "32     29   99120.136596\n",
      "33     16   85769.680133\n",
      "34      9   69028.666585\n",
      "35     36   60725.173579\n",
      "36     42   50262.925530\n",
      "37      3   46319.631557\n",
      "38     38   42768.169450\n",
      "39     43   40598.413260\n",
      "40      5   37737.965745\n",
      "41     44   24762.832015\n",
      "42     33   24132.927322\n",
      "43     30   22809.665590\n",
      "44     37   21837.461190\n"
     ]
    }
   ],
   "source": [
    "store_sales_std = df.groupby('Store')['Weekly_Sales'].std().reset_index()\n",
    "store_sales_std.columns = ['Store', 'Std']\n",
    "\n",
    "sorted_store_sales_std = store_sales_std.sort_values(by=\"Std\", ascending=False).reset_index(drop=True)\n",
    "print(\"\\nSorted Standard Deviation by Store:\")\n",
    "print(sorted_store_sales_std)"
   ]
  },
  {
   "cell_type": "code",
   "execution_count": 20,
   "metadata": {},
   "outputs": [
    {
     "name": "stdout",
     "output_type": "stream",
     "text": [
      "\n",
      "Sorted Mean by Store:\n",
      "    Store          Mean\n",
      "0      20  2.107677e+06\n",
      "1       4  2.094713e+06\n",
      "2      14  2.020978e+06\n",
      "3      13  2.003620e+06\n",
      "4       2  1.925751e+06\n",
      "5      10  1.899425e+06\n",
      "6      27  1.775216e+06\n",
      "7       6  1.564728e+06\n",
      "8       1  1.555264e+06\n",
      "9      39  1.450668e+06\n",
      "10     19  1.444999e+06\n",
      "11     31  1.395901e+06\n",
      "12     23  1.389864e+06\n",
      "13     24  1.356755e+06\n",
      "14     11  1.356383e+06\n",
      "15     28  1.323522e+06\n",
      "16     41  1.268125e+06\n",
      "17     32  1.166568e+06\n",
      "18     18  1.084718e+06\n",
      "19     22  1.028501e+06\n",
      "20     12  1.009002e+06\n",
      "21     26  1.002912e+06\n",
      "22     34  9.667816e+05\n",
      "23     40  9.641280e+05\n",
      "24     35  9.197250e+05\n",
      "25      8  9.087495e+05\n",
      "26     17  8.935814e+05\n",
      "27     45  7.859814e+05\n",
      "28     21  7.560691e+05\n",
      "29     25  7.067215e+05\n",
      "30     43  6.333247e+05\n",
      "31     15  6.233125e+05\n",
      "32      7  5.706173e+05\n",
      "33     42  5.564039e+05\n",
      "34      9  5.439806e+05\n",
      "35     29  5.394514e+05\n",
      "36     16  5.192477e+05\n",
      "37     37  5.189003e+05\n",
      "38     30  4.385796e+05\n",
      "39      3  4.027044e+05\n",
      "40     38  3.857317e+05\n",
      "41     36  3.735120e+05\n",
      "42      5  3.180118e+05\n",
      "43     44  3.027489e+05\n",
      "44     33  2.598617e+05\n"
     ]
    }
   ],
   "source": [
    "store_sales_mean = df.groupby('Store')['Weekly_Sales'].mean().reset_index()\n",
    "store_sales_mean.columns = ['Store', 'Mean']\n",
    "\n",
    "sorted_store_sales_mean = store_sales_mean.sort_values(by=\"Mean\", ascending=False).reset_index(drop=True)\n",
    "print(\"\\nSorted Mean by Store:\")\n",
    "print(sorted_store_sales_mean)"
   ]
  },
  {
   "cell_type": "markdown",
   "metadata": {},
   "source": [
    "maximum standard deviation ---> Store 14  \n",
    "maximum mean ---> Store 20\n"
   ]
  },
  {
   "cell_type": "code",
   "execution_count": 21,
   "metadata": {},
   "outputs": [
    {
     "data": {
      "text/plain": [
       "<Axes: xlabel='Store', ylabel='Std'>"
      ]
     },
     "execution_count": 21,
     "metadata": {},
     "output_type": "execute_result"
    },
    {
     "data": {
      "image/png": "[encoded data removed]",
      "text/plain": [
       "<Figure size 1200x600 with 1 Axes>"
      ]
     },
     "metadata": {},
     "output_type": "display_data"
    }
   ],
   "source": [
    "plt.figure(figsize=(12, 6))\n",
    "sns.barplot(data=sorted_store_sales_std,x=\"Store\",y=\"Std\")"
   ]
  },
  {
   "cell_type": "code",
   "execution_count": 22,
   "metadata": {},
   "outputs": [
    {
     "data": {
      "text/plain": [
       "<Axes: xlabel='Store', ylabel='Mean'>"
      ]
     },
     "execution_count": 22,
     "metadata": {},
     "output_type": "execute_result"
    },
    {
     "data": {
      "image/png": "[encoded data removed]",
      "text/plain": [
       "<Figure size 1200x600 with 1 Axes>"
      ]
     },
     "metadata": {},
     "output_type": "display_data"
    }
   ],
   "source": [
    "plt.figure(figsize=(12, 6))\n",
    "sns.barplot(data=sorted_store_sales_mean,x=\"Store\",y=\"Mean\")"
   ]
  },
  {
   "cell_type": "code",
   "execution_count": 23,
   "metadata": {},
   "outputs": [],
   "source": [
    "Coefficient_Variation = store_sales_std/store_sales_mean"
   ]
  },
  {
   "cell_type": "code",
   "execution_count": 43,
   "metadata": {},
   "outputs": [],
   "source": [
    "df1 = pd.read_csv(\"1577429980_walmart_store_sales/Walmart_Store_sales.csv\")"
   ]
  },
  {
   "cell_type": "code",
   "execution_count": 47,
   "metadata": {},
   "outputs": [
    {
     "name": "stdout",
     "output_type": "stream",
     "text": [
      "    Store     Q3_Sales     Q2_Sales  Growth_Rate\n",
      "0       1  18633209.98  21036965.58   -11.426342\n",
      "1       2  22396867.61  25085123.61   -10.716535\n",
      "2       3   4966495.93   5562668.16   -10.717379\n",
      "3       4  25652119.35  28384185.16    -9.625310\n",
      "4       5   3880621.88   4427262.21   -12.347142\n",
      "5       6  18341221.11  20728970.16   -11.518899\n",
      "6       7   7322393.92   7613593.92    -3.824738\n",
      "7       8  10873860.34  11934275.61    -8.885460\n",
      "8       9   6528239.56   7431320.13   -12.152357\n",
      "9      10  21169356.45  23598433.93   -10.293384\n",
      "10     11  16094363.07  17879095.77    -9.982231\n",
      "11     12  11777508.50  13193365.04   -10.731580\n",
      "12     13  24319994.35  26803225.55    -9.264673\n",
      "13     14  20140430.40  24427769.06   -17.551086\n",
      "14     15   6909374.37   7867952.23   -12.183321\n",
      "15     16   6441311.11   6626133.44    -2.789294\n",
      "16     17  11533998.38  12918892.02   -10.719910\n",
      "17     18  12507521.72  13834706.08    -9.593152\n",
      "18     19  16644341.31  18315278.56    -9.123188\n",
      "19     20  24665938.11  27550180.62   -10.469051\n",
      "20     21   8403507.99   9226279.62    -8.917697\n",
      "21     22  11818544.33  13329065.39   -11.332535\n",
      "22     23  17103654.36  18283424.90    -6.452678\n",
      "23     24  16125999.86  17768191.98    -9.242314\n",
      "24     25   8309440.44   9247467.19   -10.143607\n",
      "25     26  12417575.35  13218289.66    -6.057624\n",
      "26     27  20191238.11  22593640.73   -10.633092\n",
      "27     28  15055659.67  16985999.95   -11.364302\n",
      "28     29   6127862.07   7034493.19   -12.888364\n",
      "29     30   5181974.44   5786335.45   -10.444624\n",
      "30     31  16454328.46  18249155.35    -9.835123\n",
      "31     32  14142164.84  15415236.21    -8.258527\n",
      "32     33   3177072.43   3512138.05    -9.540218\n",
      "33     34  11476258.98  12858027.98   -10.746352\n",
      "34     35  10252122.68  10753570.97    -4.663086\n",
      "35     36   3578123.58   4090378.90   -12.523420\n",
      "36     37   6250524.08   6859777.96    -8.881539\n",
      "37     38   5129297.64   5732362.70   -10.520358\n",
      "38     39  18899955.17  20191585.63    -6.396875\n",
      "39     40  11647661.37  12849747.45    -9.354939\n",
      "40     41  16373588.44  17560035.88    -6.756521\n",
      "41     42   6830839.86   7608247.31   -10.217957\n",
      "42     43   7376726.03   8239792.67   -10.474373\n",
      "43     44   4020486.01   4322555.33    -6.988212\n",
      "44     45   8851242.32  10278900.05   -13.889207\n"
     ]
    },
    {
     "data": {
      "image/png": "[encoded data removed]",
      "text/plain": [
       "<Figure size 1200x600 with 1 Axes>"
      ]
     },
     "metadata": {},
     "output_type": "display_data"
    }
   ],
   "source": [
    "df1['Date'] = pd.to_datetime(df1['Date'])\n",
    "\n",
    "q3_2012 = df1[(df1['Date'].dt.year == 2012) & (df1['Date'].dt.quarter == 3)]\n",
    "q3_sales = q3_2012.groupby('Store')['Weekly_Sales'].sum().reset_index()\n",
    "q3_sales.columns = ['Store', 'Q3_Sales']\n",
    "\n",
    "\n",
    "q2_2012 = df1[(df1['Date'].dt.year == 2012) & (df1['Date'].dt.quarter == 2)]\n",
    "q2_sales = q2_2012.groupby('Store')['Weekly_Sales'].sum().reset_index()\n",
    "q2_sales.columns = ['Store', 'Q2_Sales']\n",
    "\n",
    "growth_data = pd.merge(q3_sales, q2_sales, on='Store')\n",
    "growth_data['Growth_Rate'] = (growth_data['Q3_Sales'] - growth_data['Q2_Sales']) / growth_data['Q2_Sales'] * 100\n",
    "\n",
    "print(growth_data)\n",
    "\n",
    "plt.figure(figsize=(12, 6))\n",
    "plt.bar(growth_data['Store'] , growth_data['Growth_Rate'])\n",
    "# plt.bar(growth_data['Growth_Rate'] , growth_data['Store'])\n",
    "plt.xlabel('Store')\n",
    "plt.ylabel('Growth Rate (%)')\n",
    "plt.title('Growth Rate in Q3 2012')\n",
    "plt.grid(axis='y')\n",
    "plt.show()"
   ]
  },
  {
   "cell_type": "code",
   "execution_count": 50,
   "metadata": {},
   "outputs": [
    {
     "data": {
      "text/html": [
       "<div>\n",
       "<style scoped>\n",
       "    .dataframe tbody tr th:only-of-type {\n",
       "        vertical-align: middle;\n",
       "    }\n",
       "\n",
       "    .dataframe tbody tr th {\n",
       "        vertical-align: top;\n",
       "    }\n",
       "\n",
       "    .dataframe thead th {\n",
       "        text-align: right;\n",
       "    }\n",
       "</style>\n",
       "<table border=\"1\" class=\"dataframe\">\n",
       "  <thead>\n",
       "    <tr style=\"text-align: right;\">\n",
       "      <th></th>\n",
       "      <th>Store</th>\n",
       "      <th>Date</th>\n",
       "      <th>Weekly_Sales</th>\n",
       "      <th>Holiday_Flag</th>\n",
       "      <th>Temperature</th>\n",
       "      <th>Fuel_Price</th>\n",
       "      <th>CPI</th>\n",
       "      <th>Unemployment</th>\n",
       "    </tr>\n",
       "  </thead>\n",
       "  <tbody>\n",
       "    <tr>\n",
       "      <th>0</th>\n",
       "      <td>1</td>\n",
       "      <td>2010-05-02</td>\n",
       "      <td>1643690.90</td>\n",
       "      <td>0</td>\n",
       "      <td>42.31</td>\n",
       "      <td>2.572</td>\n",
       "      <td>211.096358</td>\n",
       "      <td>8.106</td>\n",
       "    </tr>\n",
       "    <tr>\n",
       "      <th>1</th>\n",
       "      <td>1</td>\n",
       "      <td>2010-12-02</td>\n",
       "      <td>1641957.44</td>\n",
       "      <td>1</td>\n",
       "      <td>38.51</td>\n",
       "      <td>2.548</td>\n",
       "      <td>211.242170</td>\n",
       "      <td>8.106</td>\n",
       "    </tr>\n",
       "    <tr>\n",
       "      <th>2</th>\n",
       "      <td>1</td>\n",
       "      <td>2010-02-19</td>\n",
       "      <td>1611968.17</td>\n",
       "      <td>0</td>\n",
       "      <td>39.93</td>\n",
       "      <td>2.514</td>\n",
       "      <td>211.289143</td>\n",
       "      <td>8.106</td>\n",
       "    </tr>\n",
       "    <tr>\n",
       "      <th>3</th>\n",
       "      <td>1</td>\n",
       "      <td>2010-02-26</td>\n",
       "      <td>1409727.59</td>\n",
       "      <td>0</td>\n",
       "      <td>46.63</td>\n",
       "      <td>2.561</td>\n",
       "      <td>211.319643</td>\n",
       "      <td>8.106</td>\n",
       "    </tr>\n",
       "    <tr>\n",
       "      <th>4</th>\n",
       "      <td>1</td>\n",
       "      <td>2010-05-03</td>\n",
       "      <td>1554806.68</td>\n",
       "      <td>0</td>\n",
       "      <td>46.50</td>\n",
       "      <td>2.625</td>\n",
       "      <td>211.350143</td>\n",
       "      <td>8.106</td>\n",
       "    </tr>\n",
       "    <tr>\n",
       "      <th>...</th>\n",
       "      <td>...</td>\n",
       "      <td>...</td>\n",
       "      <td>...</td>\n",
       "      <td>...</td>\n",
       "      <td>...</td>\n",
       "      <td>...</td>\n",
       "      <td>...</td>\n",
       "      <td>...</td>\n",
       "    </tr>\n",
       "    <tr>\n",
       "      <th>6430</th>\n",
       "      <td>45</td>\n",
       "      <td>2012-09-28</td>\n",
       "      <td>713173.95</td>\n",
       "      <td>0</td>\n",
       "      <td>64.88</td>\n",
       "      <td>3.997</td>\n",
       "      <td>192.013558</td>\n",
       "      <td>8.684</td>\n",
       "    </tr>\n",
       "    <tr>\n",
       "      <th>6431</th>\n",
       "      <td>45</td>\n",
       "      <td>2012-05-10</td>\n",
       "      <td>733455.07</td>\n",
       "      <td>0</td>\n",
       "      <td>64.89</td>\n",
       "      <td>3.985</td>\n",
       "      <td>192.170412</td>\n",
       "      <td>8.667</td>\n",
       "    </tr>\n",
       "    <tr>\n",
       "      <th>6432</th>\n",
       "      <td>45</td>\n",
       "      <td>2012-12-10</td>\n",
       "      <td>734464.36</td>\n",
       "      <td>0</td>\n",
       "      <td>54.47</td>\n",
       "      <td>4.000</td>\n",
       "      <td>192.327265</td>\n",
       "      <td>8.667</td>\n",
       "    </tr>\n",
       "    <tr>\n",
       "      <th>6433</th>\n",
       "      <td>45</td>\n",
       "      <td>2012-10-19</td>\n",
       "      <td>718125.53</td>\n",
       "      <td>0</td>\n",
       "      <td>56.47</td>\n",
       "      <td>3.969</td>\n",
       "      <td>192.330854</td>\n",
       "      <td>8.667</td>\n",
       "    </tr>\n",
       "    <tr>\n",
       "      <th>6434</th>\n",
       "      <td>45</td>\n",
       "      <td>2012-10-26</td>\n",
       "      <td>760281.43</td>\n",
       "      <td>0</td>\n",
       "      <td>58.85</td>\n",
       "      <td>3.882</td>\n",
       "      <td>192.308899</td>\n",
       "      <td>8.667</td>\n",
       "    </tr>\n",
       "  </tbody>\n",
       "</table>\n",
       "<p>6435 rows × 8 columns</p>\n",
       "</div>"
      ],
      "text/plain": [
       "      Store       Date  Weekly_Sales  Holiday_Flag  Temperature  Fuel_Price  \\\n",
       "0         1 2010-05-02    1643690.90             0        42.31       2.572   \n",
       "1         1 2010-12-02    1641957.44             1        38.51       2.548   \n",
       "2         1 2010-02-19    1611968.17             0        39.93       2.514   \n",
       "3         1 2010-02-26    1409727.59             0        46.63       2.561   \n",
       "4         1 2010-05-03    1554806.68             0        46.50       2.625   \n",
       "...     ...        ...           ...           ...          ...         ...   \n",
       "6430     45 2012-09-28     713173.95             0        64.88       3.997   \n",
       "6431     45 2012-05-10     733455.07             0        64.89       3.985   \n",
       "6432     45 2012-12-10     734464.36             0        54.47       4.000   \n",
       "6433     45 2012-10-19     718125.53             0        56.47       3.969   \n",
       "6434     45 2012-10-26     760281.43             0        58.85       3.882   \n",
       "\n",
       "             CPI  Unemployment  \n",
       "0     211.096358         8.106  \n",
       "1     211.242170         8.106  \n",
       "2     211.289143         8.106  \n",
       "3     211.319643         8.106  \n",
       "4     211.350143         8.106  \n",
       "...          ...           ...  \n",
       "6430  192.013558         8.684  \n",
       "6431  192.170412         8.667  \n",
       "6432  192.327265         8.667  \n",
       "6433  192.330854         8.667  \n",
       "6434  192.308899         8.667  \n",
       "\n",
       "[6435 rows x 8 columns]"
      ]
     },
     "execution_count": 50,
     "metadata": {},
     "output_type": "execute_result"
    }
   ],
   "source": [
    "df1"
   ]
  },
  {
   "cell_type": "code",
   "execution_count": 59,
   "metadata": {},
   "outputs": [
    {
     "name": "stdout",
     "output_type": "stream",
     "text": [
      "      Store       Date  Weekly_Sales  Holiday_Flag  Temperature  Fuel_Price  \\\n",
      "1         1 2010-12-02    1641957.44             1        38.51       2.548   \n",
      "31        1 2010-10-09    1507460.69             1        78.69       2.565   \n",
      "42        1 2010-11-26    1955624.11             1        64.52       2.735   \n",
      "47        1 2010-12-31    1367320.01             1        48.43       2.943   \n",
      "53        1 2011-11-02    1649614.93             1        36.39       3.022   \n",
      "...     ...        ...           ...           ...          ...         ...   \n",
      "5819     41 2011-12-30    1264014.16             1        34.12       3.119   \n",
      "5825     41 2012-10-02    1238844.56             1        22.00       3.103   \n",
      "5855     41 2012-07-09    1392143.82             1        67.41       3.596   \n",
      "6334     45 2010-11-26    1182500.16             1        46.15       3.039   \n",
      "6386     45 2011-11-25    1170672.94             1        48.71       3.492   \n",
      "\n",
      "             CPI  Unemployment  \n",
      "1     211.242170         8.106  \n",
      "31    211.495190         7.787  \n",
      "42    211.748433         7.838  \n",
      "47    211.404932         7.838  \n",
      "53    212.936705         7.742  \n",
      "...          ...           ...  \n",
      "5819  196.358610         6.759  \n",
      "5825  196.919506         6.589  \n",
      "5855  198.095048         6.432  \n",
      "6334  182.783277         8.724  \n",
      "6386  188.350400         8.523  \n",
      "\n",
      "[220 rows x 8 columns]\n"
     ]
    }
   ],
   "source": [
    "mean_non_holiday_sales = df1[df1['Holiday_Flag'] == 0]['Weekly_Sales'].mean()\n",
    "higher_sales_holidays = df1[(df1['Holiday_Flag'] == 1) & (df1['Weekly_Sales'] > mean_non_holiday_sales)]\n",
    "\n",
    "print(higher_sales_holidays)"
   ]
  },
  {
   "cell_type": "code",
   "execution_count": 66,
   "metadata": {},
   "outputs": [],
   "source": [
    "df1['Month'] = df['Date'].dt.to_period('M')\n",
    "monthly = df.groupby('Month')['Weekly_Sales'].sum().reset_index() "
   ]
  },
  {
   "cell_type": "code",
   "execution_count": 70,
   "metadata": {},
   "outputs": [],
   "source": [
    "df1.drop(['month'],axis=1,inplace=True)"
   ]
  },
  {
   "cell_type": "code",
   "execution_count": 71,
   "metadata": {},
   "outputs": [
    {
     "data": {
      "text/html": [
       "<div>\n",
       "<style scoped>\n",
       "    .dataframe tbody tr th:only-of-type {\n",
       "        vertical-align: middle;\n",
       "    }\n",
       "\n",
       "    .dataframe tbody tr th {\n",
       "        vertical-align: top;\n",
       "    }\n",
       "\n",
       "    .dataframe thead th {\n",
       "        text-align: right;\n",
       "    }\n",
       "</style>\n",
       "<table border=\"1\" class=\"dataframe\">\n",
       "  <thead>\n",
       "    <tr style=\"text-align: right;\">\n",
       "      <th></th>\n",
       "      <th>Store</th>\n",
       "      <th>Date</th>\n",
       "      <th>Weekly_Sales</th>\n",
       "      <th>Holiday_Flag</th>\n",
       "      <th>Temperature</th>\n",
       "      <th>Fuel_Price</th>\n",
       "      <th>CPI</th>\n",
       "      <th>Unemployment</th>\n",
       "      <th>Month</th>\n",
       "    </tr>\n",
       "  </thead>\n",
       "  <tbody>\n",
       "    <tr>\n",
       "      <th>0</th>\n",
       "      <td>1</td>\n",
       "      <td>2010-05-02</td>\n",
       "      <td>1643690.90</td>\n",
       "      <td>0</td>\n",
       "      <td>42.31</td>\n",
       "      <td>2.572</td>\n",
       "      <td>211.096358</td>\n",
       "      <td>8.106</td>\n",
       "      <td>2012-07</td>\n",
       "    </tr>\n",
       "    <tr>\n",
       "      <th>1</th>\n",
       "      <td>1</td>\n",
       "      <td>2010-12-02</td>\n",
       "      <td>1641957.44</td>\n",
       "      <td>1</td>\n",
       "      <td>38.51</td>\n",
       "      <td>2.548</td>\n",
       "      <td>211.242170</td>\n",
       "      <td>8.106</td>\n",
       "      <td>2012-08</td>\n",
       "    </tr>\n",
       "    <tr>\n",
       "      <th>2</th>\n",
       "      <td>1</td>\n",
       "      <td>2010-02-19</td>\n",
       "      <td>1611968.17</td>\n",
       "      <td>0</td>\n",
       "      <td>39.93</td>\n",
       "      <td>2.514</td>\n",
       "      <td>211.289143</td>\n",
       "      <td>8.106</td>\n",
       "      <td>2012-09</td>\n",
       "    </tr>\n",
       "    <tr>\n",
       "      <th>3</th>\n",
       "      <td>1</td>\n",
       "      <td>2010-02-26</td>\n",
       "      <td>1409727.59</td>\n",
       "      <td>0</td>\n",
       "      <td>46.63</td>\n",
       "      <td>2.561</td>\n",
       "      <td>211.319643</td>\n",
       "      <td>8.106</td>\n",
       "      <td>2012-07</td>\n",
       "    </tr>\n",
       "    <tr>\n",
       "      <th>4</th>\n",
       "      <td>1</td>\n",
       "      <td>2010-05-03</td>\n",
       "      <td>1554806.68</td>\n",
       "      <td>0</td>\n",
       "      <td>46.50</td>\n",
       "      <td>2.625</td>\n",
       "      <td>211.350143</td>\n",
       "      <td>8.106</td>\n",
       "      <td>2012-08</td>\n",
       "    </tr>\n",
       "    <tr>\n",
       "      <th>...</th>\n",
       "      <td>...</td>\n",
       "      <td>...</td>\n",
       "      <td>...</td>\n",
       "      <td>...</td>\n",
       "      <td>...</td>\n",
       "      <td>...</td>\n",
       "      <td>...</td>\n",
       "      <td>...</td>\n",
       "      <td>...</td>\n",
       "    </tr>\n",
       "    <tr>\n",
       "      <th>6430</th>\n",
       "      <td>45</td>\n",
       "      <td>2012-09-28</td>\n",
       "      <td>713173.95</td>\n",
       "      <td>0</td>\n",
       "      <td>64.88</td>\n",
       "      <td>3.997</td>\n",
       "      <td>192.013558</td>\n",
       "      <td>8.684</td>\n",
       "      <td>NaT</td>\n",
       "    </tr>\n",
       "    <tr>\n",
       "      <th>6431</th>\n",
       "      <td>45</td>\n",
       "      <td>2012-05-10</td>\n",
       "      <td>733455.07</td>\n",
       "      <td>0</td>\n",
       "      <td>64.89</td>\n",
       "      <td>3.985</td>\n",
       "      <td>192.170412</td>\n",
       "      <td>8.667</td>\n",
       "      <td>NaT</td>\n",
       "    </tr>\n",
       "    <tr>\n",
       "      <th>6432</th>\n",
       "      <td>45</td>\n",
       "      <td>2012-12-10</td>\n",
       "      <td>734464.36</td>\n",
       "      <td>0</td>\n",
       "      <td>54.47</td>\n",
       "      <td>4.000</td>\n",
       "      <td>192.327265</td>\n",
       "      <td>8.667</td>\n",
       "      <td>NaT</td>\n",
       "    </tr>\n",
       "    <tr>\n",
       "      <th>6433</th>\n",
       "      <td>45</td>\n",
       "      <td>2012-10-19</td>\n",
       "      <td>718125.53</td>\n",
       "      <td>0</td>\n",
       "      <td>56.47</td>\n",
       "      <td>3.969</td>\n",
       "      <td>192.330854</td>\n",
       "      <td>8.667</td>\n",
       "      <td>NaT</td>\n",
       "    </tr>\n",
       "    <tr>\n",
       "      <th>6434</th>\n",
       "      <td>45</td>\n",
       "      <td>2012-10-26</td>\n",
       "      <td>760281.43</td>\n",
       "      <td>0</td>\n",
       "      <td>58.85</td>\n",
       "      <td>3.882</td>\n",
       "      <td>192.308899</td>\n",
       "      <td>8.667</td>\n",
       "      <td>NaT</td>\n",
       "    </tr>\n",
       "  </tbody>\n",
       "</table>\n",
       "<p>6435 rows × 9 columns</p>\n",
       "</div>"
      ],
      "text/plain": [
       "      Store       Date  Weekly_Sales  Holiday_Flag  Temperature  Fuel_Price  \\\n",
       "0         1 2010-05-02    1643690.90             0        42.31       2.572   \n",
       "1         1 2010-12-02    1641957.44             1        38.51       2.548   \n",
       "2         1 2010-02-19    1611968.17             0        39.93       2.514   \n",
       "3         1 2010-02-26    1409727.59             0        46.63       2.561   \n",
       "4         1 2010-05-03    1554806.68             0        46.50       2.625   \n",
       "...     ...        ...           ...           ...          ...         ...   \n",
       "6430     45 2012-09-28     713173.95             0        64.88       3.997   \n",
       "6431     45 2012-05-10     733455.07             0        64.89       3.985   \n",
       "6432     45 2012-12-10     734464.36             0        54.47       4.000   \n",
       "6433     45 2012-10-19     718125.53             0        56.47       3.969   \n",
       "6434     45 2012-10-26     760281.43             0        58.85       3.882   \n",
       "\n",
       "             CPI  Unemployment    Month  \n",
       "0     211.096358         8.106  2012-07  \n",
       "1     211.242170         8.106  2012-08  \n",
       "2     211.289143         8.106  2012-09  \n",
       "3     211.319643         8.106  2012-07  \n",
       "4     211.350143         8.106  2012-08  \n",
       "...          ...           ...      ...  \n",
       "6430  192.013558         8.684      NaT  \n",
       "6431  192.170412         8.667      NaT  \n",
       "6432  192.327265         8.667      NaT  \n",
       "6433  192.330854         8.667      NaT  \n",
       "6434  192.308899         8.667      NaT  \n",
       "\n",
       "[6435 rows x 9 columns]"
      ]
     },
     "execution_count": 71,
     "metadata": {},
     "output_type": "execute_result"
    }
   ],
   "source": [
    "df1"
   ]
  },
  {
   "cell_type": "code",
   "execution_count": 74,
   "metadata": {},
   "outputs": [],
   "source": [
    "from sklearn.model_selection import train_test_split\n",
    "from sklearn.linear_model import LinearRegression\n",
    "from sklearn.metrics import mean_squared_error, r2_score\n",
    "\n",
    "store1_data = df1[df1['Store'] == 1].copy()\n",
    "\n",
    "store1_data['Date'] = pd.to_datetime(store1_data['Date'])\n",
    "store1_data['Days'] = (store1_data['Date'] - store1_data['Date'].min()).dt.days\n",
    "\n",
    "X = store1_data[['Days', 'CPI', 'Unemployment', 'Fuel_Price']]\n",
    "y = store1_data['Weekly_Sales']\n",
    "X_train, X_test, y_train, y_test = train_test_split(X, y, test_size=0.2, random_state=42)\n"
   ]
  },
  {
   "cell_type": "code",
   "execution_count": 76,
   "metadata": {},
   "outputs": [
    {
     "name": "stdout",
     "output_type": "stream",
     "text": [
      "Mean Squared Error: 24067826778.779636\n",
      "R-Squared: 0.004935171873405975\n"
     ]
    }
   ],
   "source": [
    "model = LinearRegression()\n",
    "model.fit(X_train, y_train)\n",
    "\n",
    "y_pred = model.predict(X_test)\n",
    "\n",
    "mse = mean_squared_error(y_test, y_pred)\n",
    "r2 = r2_score(y_test, y_pred)\n",
    "\n",
    "print(f\"Mean Squared Error: {mse}\")\n",
    "print(f\"R-Squared: {r2}\")\n",
    "    "
   ]
  }
 ],
 "metadata": {
  "kernelspec": {
   "display_name": "base",
   "language": "python",
   "name": "python3"
  },
  "language_info": {
   "codemirror_mode": {
    "name": "ipython",
    "version": 3
   },
   "file_extension": ".py",
   "mimetype": "text/x-python",
   "name": "python",
   "nbconvert_exporter": "python",
   "pygments_lexer": "ipython3",
   "version": "3.11.4"
  }
 },
 "nbformat": 4,
 "nbformat_minor": 2
}
